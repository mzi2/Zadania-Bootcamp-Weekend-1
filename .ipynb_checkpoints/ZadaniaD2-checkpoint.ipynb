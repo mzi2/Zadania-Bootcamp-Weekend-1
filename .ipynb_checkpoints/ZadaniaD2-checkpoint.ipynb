{
 "cells": [
  {
   "cell_type": "markdown",
   "metadata": {},
   "source": [
    "# Zadanie 4"
   ]
  },
  {
   "cell_type": "markdown",
   "metadata": {},
   "source": [
    "- Utwórz zmienna imię ze swoim imieniem\n",
    "- Utwórz zmienną wzrost, waga które będą równe Twoim wskazania wzrostu i wagi albo kolegi / koleżanki ☺\n",
    "- Napisz prosty kalkulator BMI\n",
    "- Wypisz na ekranie wartość BMI ze wskazaniem czy poniżej/ w normie / czy powyżej "
   ]
  },
  {
   "cell_type": "code",
   "execution_count": 52,
   "metadata": {},
   "outputs": [],
   "source": [
    "zm_name = \"Kazik\""
   ]
  },
  {
   "cell_type": "code",
   "execution_count": 53,
   "metadata": {},
   "outputs": [],
   "source": [
    "wzrost = 175"
   ]
  },
  {
   "cell_type": "code",
   "execution_count": 54,
   "metadata": {},
   "outputs": [],
   "source": [
    "waga = 55"
   ]
  },
  {
   "cell_type": "code",
   "execution_count": 55,
   "metadata": {},
   "outputs": [],
   "source": [
    "wart_bmi = waga / ((wzrost * wzrost) / 10000)"
   ]
  },
  {
   "cell_type": "code",
   "execution_count": 56,
   "metadata": {},
   "outputs": [
    {
     "name": "stdout",
     "output_type": "stream",
     "text": [
      "17.96\n"
     ]
    }
   ],
   "source": [
    "print(round(wart_bmi,2))"
   ]
  },
  {
   "cell_type": "code",
   "execution_count": 57,
   "metadata": {},
   "outputs": [
    {
     "name": "stdout",
     "output_type": "stream",
     "text": [
      "Kazik Twoj wskaznik BMI to 17.96\n"
     ]
    }
   ],
   "source": [
    "print(\"{} Twoj wskaznik BMI to {}\".format(str(zm_name), round(wart_bmi,2)))"
   ]
  },
  {
   "cell_type": "markdown",
   "metadata": {},
   "source": [
    "# Zadanie 5"
   ]
  },
  {
   "cell_type": "markdown",
   "metadata": {},
   "source": [
    "Określ zmienne logiczne czy_pada, czy_tydzien_pracy, czy_bankrut\n",
    "\n",
    "Wiadomo, że człowiekowi jest fajnie wtedy, gdy:\n",
    "    - Nie pada deszcz/śnieg\n",
    "    - Jest weekend\n",
    "    - Nie jest bankrutem\n",
    "    - Utwórz zmienna czy_fajnie, która mówi czy człowiekowi jest fajnie ☺\n",
    "*Zrób to bez użycia operacji not"
   ]
  },
  {
   "cell_type": "code",
   "execution_count": 7,
   "metadata": {},
   "outputs": [
    {
     "name": "stdout",
     "output_type": "stream",
     "text": [
      "Jest kiepsko\n"
     ]
    }
   ],
   "source": [
    "czy_pada = 1\n",
    "czy_tydzien_pracy = 1\n",
    "czy_bankrut = 1\n",
    "czy_fajnie = \"\"\n",
    "\n",
    "if (czy_pada == 0 and czy_tydzien_pracy == 0 and czy_bankrut == 0 ):\n",
    "    czy_fajnie = \"Jest Fajnie\"\n",
    "else:\n",
    "    czy_fajnie = \"Jest kiepsko\"\n",
    "    \n",
    "print(czy_fajnie)"
   ]
  },
  {
   "cell_type": "markdown",
   "metadata": {},
   "source": [
    " # Zadanie 6\n"
   ]
  },
  {
   "cell_type": "markdown",
   "metadata": {},
   "source": [
    "- Do zmiennej lista_kwadrat przypisz kwadrat liczb od 1 do 12\n",
    "\n",
    "- Do zmiennej lista_kwadrat2 przypisz kwadrat liczb podzielnych przez 3 od 1 do 30*\n",
    "\n",
    "- Wyświetl lista_kwadrat i lista_kwadrat2 "
   ]
  },
  {
   "cell_type": "code",
   "execution_count": 8,
   "metadata": {},
   "outputs": [],
   "source": [
    "lista_a = [1, 2, 3, 4, 5, 6, 7, 8, 9, 10, 11, 12]"
   ]
  },
  {
   "cell_type": "markdown",
   "metadata": {},
   "source": [
    "Przypisujemy do lista_kwadrat kwadraty liczb a pomocą \"list comprehension\". Patrz: https://python-3-patterns-idioms-test.readthedocs.io/en/latest/Comprehensions.html"
   ]
  },
  {
   "cell_type": "code",
   "execution_count": 9,
   "metadata": {},
   "outputs": [],
   "source": [
    "lista_kwadrat = [e**2 for e in lista_a]"
   ]
  },
  {
   "cell_type": "markdown",
   "metadata": {},
   "source": [
    "Rezultat \"list comprehension\":\n"
   ]
  },
  {
   "cell_type": "code",
   "execution_count": 10,
   "metadata": {},
   "outputs": [
    {
     "data": {
      "text/plain": [
       "[1, 4, 9, 16, 25, 36, 49, 64, 81, 100, 121, 144]"
      ]
     },
     "execution_count": 10,
     "metadata": {},
     "output_type": "execute_result"
    }
   ],
   "source": [
    "lista_kwadrat"
   ]
  },
  {
   "cell_type": "markdown",
   "metadata": {},
   "source": [
    "Lista z kwadratami liczb podzielnych przez 3 od 1 do 12*"
   ]
  },
  {
   "cell_type": "code",
   "execution_count": 11,
   "metadata": {},
   "outputs": [],
   "source": [
    "lista_kwadrat2 = [e**2 for e in lista_a if ((e**2)/3)%3 == 0]"
   ]
  },
  {
   "cell_type": "code",
   "execution_count": 12,
   "metadata": {},
   "outputs": [
    {
     "data": {
      "text/plain": [
       "[9, 36, 81, 144]"
      ]
     },
     "execution_count": 12,
     "metadata": {},
     "output_type": "execute_result"
    }
   ],
   "source": [
    "lista_kwadrat2"
   ]
  },
  {
   "cell_type": "markdown",
   "metadata": {},
   "source": [
    "# Zadanie 6* - wersja dodatkowa"
   ]
  },
  {
   "cell_type": "markdown",
   "metadata": {},
   "source": [
    "- Utwórz listę wzrostu uczestników\n",
    "- Utwórz listę wagi uczestników\n",
    "- Dzięki matplotlib narysuj wykres zależności\n",
    "\n",
    "Uzywamy Matplotlib:https://matplotlib.org/users/pyplot_tutorial.html"
   ]
  },
  {
   "cell_type": "code",
   "execution_count": 13,
   "metadata": {},
   "outputs": [],
   "source": [
    "%matplotlib inline\n",
    "\n",
    "import matplotlib.pyplot as plt\n",
    "import numpy as np"
   ]
  },
  {
   "cell_type": "code",
   "execution_count": 14,
   "metadata": {},
   "outputs": [],
   "source": [
    "lista_wzrost = [170, 175, 180, 185, 190, 196]"
   ]
  },
  {
   "cell_type": "code",
   "execution_count": 15,
   "metadata": {},
   "outputs": [],
   "source": [
    "lista_waga = [81, 75, 64, 87, 98, 55]"
   ]
  },
  {
   "cell_type": "code",
   "execution_count": 16,
   "metadata": {},
   "outputs": [
    {
     "data": {
      "image/png": "[encoded data removed]",
      "text/plain": [
       "<Figure size 432x288 with 1 Axes>"
      ]
     },
     "metadata": {},
     "output_type": "display_data"
    }
   ],
   "source": [
    "plt.plot(lista_wzrost, lista_waga)\n",
    "plt.ylabel(\"Waga\")\n",
    "plt.xlabel(\"Wzrost\")\n",
    "plt.show()"
   ]
  },
  {
   "cell_type": "markdown",
   "metadata": {},
   "source": [
    "# Zadanie 7\n",
    "\n",
    "- Napisz funkcję, która wyświetli oraz zwróci Twoje imię\n",
    "- Uruchom funkcję i przyrównaj wartość do None\n",
    "\n",
    "Używamy głównie: https://www.learnpython.org/pl/Funkcje"
   ]
  },
  {
   "cell_type": "code",
   "execution_count": 21,
   "metadata": {},
   "outputs": [],
   "source": [
    "def imie_function():\n",
    "    print(\"Marcin\")"
   ]
  },
  {
   "cell_type": "code",
   "execution_count": 22,
   "metadata": {},
   "outputs": [
    {
     "name": "stdout",
     "output_type": "stream",
     "text": [
      "Marcin\n"
     ]
    }
   ],
   "source": [
    "imie_function()"
   ]
  },
  {
   "cell_type": "code",
   "execution_count": 24,
   "metadata": {},
   "outputs": [
    {
     "name": "stdout",
     "output_type": "stream",
     "text": [
      "Marcin\n"
     ]
    },
    {
     "data": {
      "text/plain": [
       "True"
      ]
     },
     "execution_count": 24,
     "metadata": {},
     "output_type": "execute_result"
    }
   ],
   "source": [
    "imie_function() == None"
   ]
  },
  {
   "cell_type": "markdown",
   "metadata": {},
   "source": [
    "# Zadanie 8\n",
    "- Dokonaj faktoryzacji kodu – kalkulatora BMI\n",
    "- Faktoryzacja ma polegać na stworzeniu funkcji\n",
    "- Dodatkowo funkcja ma wyświetlać komunikat np.:„Adam twoje bmi wynosi 29 i masz nadwagę”"
   ]
  },
  {
   "cell_type": "code",
   "execution_count": 47,
   "metadata": {},
   "outputs": [],
   "source": [
    "waga_2 = 85\n",
    "wzrost_2 = 175\n",
    "waga_info = \"\"\n",
    "\n",
    "\n",
    "def funkcja_bmi(a, b):\n",
    "    bmi = a / ((b * b) / 10000)\n",
    "    zm_name = !whoami\n",
    "    if bmi > 20:\n",
    "        waga_info = \"nadwage\"\n",
    "    else:\n",
    "        waga_info = \"niedowage\"\n",
    "    print(\"{} twoje bmi wynosi {} i masz {}\".format(str(zm_name[0]), round(bmi,2), waga_info))\n"
   ]
  },
  {
   "cell_type": "code",
   "execution_count": 48,
   "metadata": {},
   "outputs": [
    {
     "name": "stdout",
     "output_type": "stream",
     "text": [
      "dawidziol twoje bmi wynosi 27.76 i masz nadwage\n"
     ]
    }
   ],
   "source": [
    "funkcja_bmi(waga_2, wzrost_2)"
   ]
  },
  {
   "cell_type": "markdown",
   "metadata": {},
   "source": [
    "# Zadanie 9\n",
    "\n",
    "- Napisz funkcje suma_zarobkow, która dla podanego dzialu wyswietli srednia zarobkow dzialu \n",
    "    np:„ Srednia zarobkow dzialu: administracja wynosi 3273”\n",
    "- Zaokrąglij do pełnych złotówek"
   ]
  },
  {
   "cell_type": "code",
   "execution_count": 66,
   "metadata": {},
   "outputs": [],
   "source": [
    "lista_plac_kadry = {'Anna': 3500, 'Kazik': 4500, 'Franek': 5000}\n",
    "lista_plac_sprzedaz = {'Bartek': 8000, 'Juzio': 2500, 'Ola': 7000}\n"
   ]
  },
  {
   "cell_type": "code",
   "execution_count": 67,
   "metadata": {},
   "outputs": [],
   "source": [
    "def suma_zarobkow(a):\n",
    "    srednia_zar = sum(a.values()) / len(a.values())\n",
    "    print(round(srednia_zar))\n",
    "    "
   ]
  },
  {
   "cell_type": "code",
   "execution_count": 68,
   "metadata": {},
   "outputs": [
    {
     "name": "stdout",
     "output_type": "stream",
     "text": [
      "4333\n"
     ]
    }
   ],
   "source": [
    "suma_zarobkow(lista_plac_kadry)"
   ]
  },
  {
   "cell_type": "markdown",
   "metadata": {},
   "source": [
    "# Zadanie 9* - zakres rozszerzony\n",
    "- Użyj bibliotek numpy oraz matplotlib w celu wyrysowania rozkładu danych"
   ]
  },
  {
   "cell_type": "code",
   "execution_count": 75,
   "metadata": {},
   "outputs": [
    {
     "data": {
      "image/png": "[encoded data removed]",
      "text/plain": [
       "<Figure size 432x288 with 1 Axes>"
      ]
     },
     "metadata": {},
     "output_type": "display_data"
    }
   ],
   "source": [
    "plt.plot(lista_plac_kadry.values(), lista_plac_kadry.values())\n",
    "plt.ylabel(\"Zarobki\")\n",
    "plt.xlabel(\"Liczba osob\")\n",
    "plt.show()"
   ]
  },
  {
   "cell_type": "code",
   "execution_count": null,
   "metadata": {},
   "outputs": [],
   "source": []
  }
 ],
 "metadata": {
  "kernelspec": {
   "display_name": "Python 3",
   "language": "python",
   "name": "python3"
  },
  "language_info": {
   "codemirror_mode": {
    "name": "ipython",
    "version": 3
   },
   "file_extension": ".py",
   "mimetype": "text/x-python",
   "name": "python",
   "nbconvert_exporter": "python",
   "pygments_lexer": "ipython3",
   "version": "3.6.5"
  }
 },
 "nbformat": 4,
 "nbformat_minor": 2
}
