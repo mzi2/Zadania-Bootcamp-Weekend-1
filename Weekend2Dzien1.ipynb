{
 "cells": [
  {
   "cell_type": "markdown",
   "metadata": {},
   "source": [
    "# Programowanie Obiektowe"
   ]
  },
  {
   "cell_type": "markdown",
   "metadata": {},
   "source": [
    "*Pola/atrybuty to tak naprawde zmienne\n",
    "*Metody to funkcje\n",
    "\n",
    "## Przykład:\n",
    "* Pola/Atrybuty to tak naprawde mienne.\n",
    "* Metody to funkcje\n",
    "## Przykład:\n",
    "* Klasa człowiek\n",
    "    * Posiada atrybuty:\n",
    "        * Imie\n",
    "        * Nazwisko\n",
    "        * Waga\n",
    "        * Wiek\n",
    "    * Posiada metody:\n",
    "        * Jeść\n",
    "        * Pić\n",
    "        * Spać"
   ]
  },
  {
   "cell_type": "code",
   "execution_count": 1,
   "metadata": {},
   "outputs": [],
   "source": [
    "class Czlowiek:\n",
    "    # Ponizej definicja konstruktora\n",
    "    def __init__(self, imie, nazwisko, waga):\n",
    "        self.imie = imie\n",
    "        self.nazwisko = nazwisko\n",
    "        self.waga = waga"
   ]
  },
  {
   "cell_type": "code",
   "execution_count": 2,
   "metadata": {},
   "outputs": [
    {
     "data": {
      "text/plain": [
       "'JAKIS CIAG'"
      ]
     },
     "execution_count": 2,
     "metadata": {},
     "output_type": "execute_result"
    }
   ],
   "source": [
    "\"jakis ciag\".upper()"
   ]
  },
  {
   "cell_type": "code",
   "execution_count": 3,
   "metadata": {},
   "outputs": [],
   "source": [
    "isinstance?"
   ]
  },
  {
   "cell_type": "code",
   "execution_count": 5,
   "metadata": {},
   "outputs": [
    {
     "ename": "NameError",
     "evalue": "name 'mazda' is not defined",
     "output_type": "error",
     "traceback": [
      "\u001b[0;31m---------------------------------------------------------------------------\u001b[0m",
      "\u001b[0;31mNameError\u001b[0m                                 Traceback (most recent call last)",
      "\u001b[0;32m<ipython-input-5-51d4383ba9f8>\u001b[0m in \u001b[0;36m<module>\u001b[0;34m()\u001b[0m\n\u001b[0;32m----> 1\u001b[0;31m \u001b[0misinstance\u001b[0m\u001b[0;34m(\u001b[0m\u001b[0mmazda\u001b[0m\u001b[0;34m,\u001b[0m \u001b[0mCzlowiek\u001b[0m\u001b[0;34m)\u001b[0m\u001b[0;34m\u001b[0m\u001b[0m\n\u001b[0m",
      "\u001b[0;31mNameError\u001b[0m: name 'mazda' is not defined"
     ]
    }
   ],
   "source": [
    "isinstance(mazda, Czlowiek)"
   ]
  },
  {
   "cell_type": "code",
   "execution_count": 14,
   "metadata": {},
   "outputs": [],
   "source": [
    "class Samochod:\n",
    "    def __init__(self, marka, model, kolor, przebieg):\n",
    "        self.marka = marka\n",
    "        self.model = model\n",
    "        self.kolor = kolor\n",
    "        self.przebieg = przebieg\n",
    "    \n",
    "    def full_name(self):\n",
    "        print(\" To jest {} {}\".format(self.marka, self.model))"
   ]
  },
  {
   "cell_type": "code",
   "execution_count": 15,
   "metadata": {},
   "outputs": [],
   "source": [
    "mazda = Samochod('mazda', '6', 'czerwony', '1300')"
   ]
  },
  {
   "cell_type": "code",
   "execution_count": 16,
   "metadata": {},
   "outputs": [
    {
     "name": "stdout",
     "output_type": "stream",
     "text": [
      " To jest mazda 6\n"
     ]
    }
   ],
   "source": [
    "mazda.full_name()"
   ]
  },
  {
   "cell_type": "markdown",
   "metadata": {},
   "source": [
    "# Zmienne klasy\n",
    "    * odwolanie np. do ilosci kol - na podstawie tej zmiennej mozna dodać stala zmienna dla klasy, bez wzgledu na inne atrybuty --> kazdy samochod ma zawsze 4 kola. Sprawdzimy to na klasie\"Samochod\" przypisujac jej stala zmienna ILOSC_KOL = 4"
   ]
  },
  {
   "cell_type": "code",
   "execution_count": 17,
   "metadata": {},
   "outputs": [],
   "source": [
    "class Samochod:\n",
    "    ILOSC_KOL = 4\n",
    "    def __init__(self, marka, model, kolor, przebieg):\n",
    "        self.marka = marka\n",
    "        self.model = model\n",
    "        self.kolor = kolor\n",
    "        self.przebieg = przebieg\n",
    "    \n",
    "    def full_name(self):\n",
    "        print(\" To jest {} {}\".format(self.marka, self.model))"
   ]
  },
  {
   "cell_type": "code",
   "execution_count": 18,
   "metadata": {},
   "outputs": [
    {
     "data": {
      "text/plain": [
       "4"
      ]
     },
     "execution_count": 18,
     "metadata": {},
     "output_type": "execute_result"
    }
   ],
   "source": [
    "Samochod.ILOSC_KOL"
   ]
  },
  {
   "cell_type": "code",
   "execution_count": 22,
   "metadata": {},
   "outputs": [],
   "source": [
    "mazda = Samochod('mazda', '6', 'czerwony', '1300')"
   ]
  },
  {
   "cell_type": "code",
   "execution_count": 24,
   "metadata": {},
   "outputs": [
    {
     "data": {
      "text/plain": [
       "'mazda'"
      ]
     },
     "execution_count": 24,
     "metadata": {},
     "output_type": "execute_result"
    }
   ],
   "source": [
    "mazda.marka"
   ]
  },
  {
   "cell_type": "markdown",
   "metadata": {},
   "source": [
    "sprawdzenie co zawiera \"mazda\" po przypisaniu do klasy \"Samochod\""
   ]
  },
  {
   "cell_type": "code",
   "execution_count": 25,
   "metadata": {},
   "outputs": [
    {
     "data": {
      "text/plain": [
       "{'marka': 'mazda', 'model': '6', 'kolor': 'czerwony', 'przebieg': '1300'}"
      ]
     },
     "execution_count": 25,
     "metadata": {},
     "output_type": "execute_result"
    }
   ],
   "source": [
    "mazda.__dict__"
   ]
  },
  {
   "cell_type": "code",
   "execution_count": 26,
   "metadata": {},
   "outputs": [],
   "source": [
    "scania = Samochod('scania', 'cos', 'czerwony', '1300')"
   ]
  },
  {
   "cell_type": "code",
   "execution_count": 27,
   "metadata": {},
   "outputs": [],
   "source": [
    "scania.ILOSC_KOL = 6"
   ]
  },
  {
   "cell_type": "code",
   "execution_count": 28,
   "metadata": {},
   "outputs": [
    {
     "data": {
      "text/plain": [
       "6"
      ]
     },
     "execution_count": 28,
     "metadata": {},
     "output_type": "execute_result"
    }
   ],
   "source": [
    "scania.ILOSC_KOL"
   ]
  },
  {
   "cell_type": "markdown",
   "metadata": {},
   "source": [
    " # POLA\n",
    "*wstawianie dekoratora \"property', mowi o tym zeby funkcja zastosowala sie w troche inny sposob.Umozliwia wywolanie np. full_name bez \"()\".\n",
    "Mozemy uzywac np pewnych atrybutow bez informowania uzytkownika, ze np. pod spodem cos jest wykonywane np.liczenie \"y\" albo cos innego. Ukrywamy czes kody przed uzytkownikiem"
   ]
  },
  {
   "cell_type": "code",
   "execution_count": 29,
   "metadata": {},
   "outputs": [],
   "source": [
    "class Samochod:\n",
    "    ILOSC_KOL = 4\n",
    "    def __init__(self, marka, model, kolor, przebieg):\n",
    "        self.marka = marka\n",
    "        self.model = model\n",
    "        self.kolor = kolor\n",
    "        self.przebieg = przebieg\n",
    "    @property\n",
    "    def full_name(self):\n",
    "        print(\" To jest {} {}\".format(self.marka, self.model))"
   ]
  },
  {
   "cell_type": "code",
   "execution_count": 30,
   "metadata": {},
   "outputs": [],
   "source": [
    "scania = Samochod('scania', 'cos', 'czerwony', '1300')"
   ]
  },
  {
   "cell_type": "code",
   "execution_count": 32,
   "metadata": {},
   "outputs": [
    {
     "name": "stdout",
     "output_type": "stream",
     "text": [
      " To jest scania cos\n"
     ]
    }
   ],
   "source": [
    "scania.full_name # naturalnie bez @property powinno być z \"()\""
   ]
  },
  {
   "cell_type": "markdown",
   "metadata": {},
   "source": [
    "# Metody Specjalne na klasach"
   ]
  },
  {
   "cell_type": "code",
   "execution_count": 45,
   "metadata": {},
   "outputs": [],
   "source": [
    "class Samochod:\n",
    "    ILOSC_KOL = 4\n",
    "    def __init__(self, marka, model, kolor, przebieg):\n",
    "        self.marka = marka\n",
    "        self.model = model\n",
    "        self.kolor = kolor\n",
    "        self.przebieg = przebieg\n",
    "        \n",
    "    @property\n",
    "    def full_name(self):\n",
    "        return \" To jest {} {}\".format(self.marka, self.model)\n",
    "        \n",
    "    #metody specjalne __str__ - tworzymy konwersje typu \"chce miec stringa\", ktora jest wbudowana w kod\n",
    "    def __str__(self):\n",
    "        return self.full_name\n",
    "    \n",
    "    def __bool__(self):\n",
    "        return False"
   ]
  },
  {
   "cell_type": "code",
   "execution_count": 46,
   "metadata": {},
   "outputs": [],
   "source": [
    "scania = Samochod('scania', 'cos', 'czerwony', '1300')"
   ]
  },
  {
   "cell_type": "code",
   "execution_count": 47,
   "metadata": {},
   "outputs": [
    {
     "data": {
      "text/plain": [
       "__main__.Samochod"
      ]
     },
     "execution_count": 47,
     "metadata": {},
     "output_type": "execute_result"
    }
   ],
   "source": [
    "type(scania)"
   ]
  },
  {
   "cell_type": "code",
   "execution_count": 48,
   "metadata": {},
   "outputs": [
    {
     "data": {
      "text/plain": [
       "' To jest scania cos'"
      ]
     },
     "execution_count": 48,
     "metadata": {},
     "output_type": "execute_result"
    }
   ],
   "source": [
    "str(scania)"
   ]
  },
  {
   "cell_type": "code",
   "execution_count": 49,
   "metadata": {},
   "outputs": [
    {
     "data": {
      "text/plain": [
       "False"
      ]
     },
     "execution_count": 49,
     "metadata": {},
     "output_type": "execute_result"
    }
   ],
   "source": [
    "bool(scania)"
   ]
  },
  {
   "cell_type": "code",
   "execution_count": null,
   "metadata": {},
   "outputs": [],
   "source": []
  },
  {
   "cell_type": "code",
   "execution_count": null,
   "metadata": {},
   "outputs": [],
   "source": []
  }
 ],
 "metadata": {
  "kernelspec": {
   "display_name": "Python 3",
   "language": "python",
   "name": "python3"
  },
  "language_info": {
   "codemirror_mode": {
    "name": "ipython",
    "version": 3
   },
   "file_extension": ".py",
   "mimetype": "text/x-python",
   "name": "python",
   "nbconvert_exporter": "python",
   "pygments_lexer": "ipython3",
   "version": "3.6.5"
  }
 },
 "nbformat": 4,
 "nbformat_minor": 2
}
